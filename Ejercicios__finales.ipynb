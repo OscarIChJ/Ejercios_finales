{
  "nbformat": 4,
  "nbformat_minor": 0,
  "metadata": {
    "colab": {
      "provenance": [],
      "authorship_tag": "ABX9TyNC7kZ/uTs9FCqNYD6dzAye",
      "include_colab_link": true
    },
    "kernelspec": {
      "name": "python3",
      "display_name": "Python 3"
    },
    "language_info": {
      "name": "python"
    }
  },
  "cells": [
    {
      "cell_type": "markdown",
      "metadata": {
        "id": "view-in-github",
        "colab_type": "text"
      },
      "source": [
        "<a href=\"https://colab.research.google.com/github/OscarIChJ/Ejercios_finales/blob/main/Ejercicios__finales.ipynb\" target=\"_parent\"><img src=\"https://colab.research.google.com/assets/colab-badge.svg\" alt=\"Open In Colab\"/></a>"
      ]
    },
    {
      "cell_type": "markdown",
      "source": [
        "#Ejercicios finales\n",
        "oscar ivan chima jimenez\n",
        "ID: 000501416"
      ],
      "metadata": {
        "id": "WRxzYrVKN4Pl"
      }
    },
    {
      "cell_type": "code",
      "source": [
        "# Solicitar al usuario que ingrese su nombre\n",
        "nombre = input(\"Por favor, ingresa tu nombre: \")\n",
        "\n",
        "# Imprimir un mensaje de saludo con el nombre del usuario\n",
        "print(f\"Hola, {nombre}! ¡Bienvenido!\")\n"
      ],
      "metadata": {
        "colab": {
          "base_uri": "https://localhost:8080/"
        },
        "id": "OWMvoWMkOZN4",
        "outputId": "6241b639-7b49-4413-932b-0bd7de517533"
      },
      "execution_count": 2,
      "outputs": [
        {
          "output_type": "stream",
          "name": "stdout",
          "text": [
            "Por favor, ingresa tu nombre: OSCAR\n",
            "Hola, OSCAR! ¡Bienvenido!\n"
          ]
        }
      ]
    },
    {
      "cell_type": "code",
      "source": [
        "# Solicitar al usuario que ingrese la base del triángulo\n",
        "base = float(input(\"Ingresa la longitud de la base del triángulo: \"))\n",
        "\n",
        "# Solicitar al usuario que ingrese la altura del triángulo\n",
        "altura = float(input(\"Ingresa la altura del triángulo: \"))\n",
        "\n",
        "# Calcular el área del triángulo (Área = 1/2 * base * altura)\n",
        "area = 0.5 * base * altura\n",
        "\n",
        "# Mostrar el resultado\n",
        "print(f\"El área del triángulo con base {base} y altura {altura} es: {area}\")\n"
      ],
      "metadata": {
        "colab": {
          "base_uri": "https://localhost:8080/"
        },
        "id": "d-bL6AjyOW8w",
        "outputId": "dcb19f27-9a31-40b5-c74e-0e137b18c65d"
      },
      "execution_count": 3,
      "outputs": [
        {
          "output_type": "stream",
          "name": "stdout",
          "text": [
            "Ingresa la longitud de la base del triángulo: 18\n",
            "Ingresa la altura del triángulo: 9\n",
            "El área del triángulo con base 18.0 y altura 9.0 es: 81.0\n"
          ]
        }
      ]
    },
    {
      "cell_type": "code",
      "source": [
        "\n",
        "# Solicitar al usuario que ingrese la temperatura en grados Celsius\n",
        "celsius = float(input(\"Ingresa la temperatura en grados Celsius: \"))\n",
        "\n",
        "# Convertir la temperatura a grados Fahrenheit\n",
        "fahrenheit = (celsius * 9/5) + 32\n",
        "\n",
        "# Mostrar el resultado\n",
        "print(f\"{celsius} grados Celsius equivalen a {fahrenheit} grados Fahrenheit\")\n"
      ],
      "metadata": {
        "colab": {
          "base_uri": "https://localhost:8080/"
        },
        "id": "sgE36km8POJU",
        "outputId": "1961f3cb-6ef5-4b5a-9db8-5cb71404fc48"
      },
      "execution_count": 6,
      "outputs": [
        {
          "output_type": "stream",
          "name": "stdout",
          "text": [
            "Ingresa la temperatura en grados Celsius: 27\n",
            "27.0 grados Celsius equivalen a 80.6 grados Fahrenheit\n"
          ]
        }
      ]
    },
    {
      "cell_type": "code",
      "source": [
        "# Solicitar al usuario que ingrese dos valores\n",
        "valor1 = input(\"Ingresa el primer valor: \")\n",
        "valor2 = input(\"Ingresa el segundo valor: \")\n",
        "\n",
        "# Imprimir los valores originales\n",
        "print(f\"Valores originales: valor1 = {valor1}, valor2 = {valor2}\")\n",
        "\n",
        "# Intercambiar los valores utilizando una variable temporal\n",
        "temp = valor1\n",
        "valor1 = valor2\n",
        "valor2 = temp\n",
        "\n",
        "# Imprimir los valores intercambiados\n",
        "print(f\"Valores intercambiados: valor1 = {valor1}, valor2 = {valor2}\")\n"
      ],
      "metadata": {
        "colab": {
          "base_uri": "https://localhost:8080/"
        },
        "id": "1hLk5S8RPE99",
        "outputId": "99047b3f-4fdd-4f9c-ba1a-dd347b958cd8"
      },
      "execution_count": 7,
      "outputs": [
        {
          "output_type": "stream",
          "name": "stdout",
          "text": [
            "Ingresa el primer valor: 22\n",
            "Ingresa el segundo valor: 18\n",
            "Valores originales: valor1 = 22, valor2 = 18\n",
            "Valores intercambiados: valor1 = 18, valor2 = 22\n"
          ]
        }
      ]
    },
    {
      "cell_type": "code",
      "source": [
        "# Solicitar al usuario que ingrese tres números\n",
        "numero1 = float(input(\"Ingresa el primer número: \"))\n",
        "numero2 = float(input(\"Ingresa el segundo número: \"))\n",
        "numero3 = float(input(\"Ingresa el tercer número: \"))\n",
        "\n",
        "# Calcular el promedio\n",
        "promedio = (numero1 + numero2 + numero3) / 3\n",
        "\n",
        "# Mostrar el resultado\n",
        "print(f\"El promedio de {numero1}, {numero2} y {numero3} es: {promedio}\")\n"
      ],
      "metadata": {
        "colab": {
          "base_uri": "https://localhost:8080/"
        },
        "id": "2-WeD_JUQEG8",
        "outputId": "1adff2d4-de57-4591-dbc1-2e188cd6a33d"
      },
      "execution_count": 8,
      "outputs": [
        {
          "output_type": "stream",
          "name": "stdout",
          "text": [
            "Ingresa el primer número: 12\n",
            "Ingresa el segundo número: 6\n",
            "Ingresa el tercer número: 8\n",
            "El promedio de 12.0, 6.0 y 8.0 es: 8.666666666666666\n"
          ]
        }
      ]
    },
    {
      "cell_type": "code",
      "source": [
        "# Función para realizar una suma\n",
        "def suma(a, b):\n",
        "    return a + b\n",
        "\n",
        "# Función para realizar una resta\n",
        "def resta(a, b):\n",
        "    return a - b\n",
        "\n",
        "# Función para realizar una multiplicación\n",
        "def multiplicacion(a, b):\n",
        "    return a * b\n",
        "\n",
        "# Función para realizar una división\n",
        "def division(a, b):\n",
        "    if b != 0:\n",
        "        return a / b\n",
        "    else:\n",
        "        return \"Error: No se puede dividir por cero\"\n",
        "\n",
        "# Menú de la calculadora\n",
        "print(\"Operaciones disponibles:\")\n",
        "print(\"1. Suma\")\n",
        "print(\"2. Resta\")\n",
        "print(\"3. Multiplicación\")\n",
        "print(\"4. División\")\n",
        "\n",
        "# Solicitar al usuario que elija una operación\n",
        "opcion = input(\"Elije una operación (1/2/3/4): \")\n",
        "\n",
        "# Solicitar al usuario que ingrese dos números\n",
        "num1 = float(input(\"Ingresa el primer número: \"))\n",
        "num2 = float(input(\"Ingresa el segundo número: \"))\n",
        "\n",
        "# Realizar la operación seleccionada\n",
        "if opcion == '1':\n",
        "    resultado = suma(num1, num2)\n",
        "    operacion = \"suma\"\n",
        "elif opcion == '2':\n",
        "    resultado = resta(num1, num2)\n",
        "    operacion = \"resta\"\n",
        "elif opcion == '3':\n",
        "    resultado = multiplicacion(num1, num2)\n",
        "    operacion = \"multiplicación\"\n",
        "elif opcion == '4':\n",
        "    resultado = division(num1, num2)\n",
        "    operacion = \"división\"\n",
        "else:\n",
        "    resultado = \"Opción no válida\"\n",
        "    operacion = \"desconocida\"\n",
        "\n",
        "# Mostrar el resultado\n",
        "if type(resultado) == str:\n",
        "    print(resultado)\n",
        "else:\n",
        "    print(f\"El resultado de la {operacion} es: {resultado}\")\n"
      ],
      "metadata": {
        "colab": {
          "base_uri": "https://localhost:8080/"
        },
        "id": "a3ZXwcoAQVNP",
        "outputId": "002b8f84-e4fa-4842-ea6c-7f2393dd42e3"
      },
      "execution_count": 9,
      "outputs": [
        {
          "output_type": "stream",
          "name": "stdout",
          "text": [
            "Operaciones disponibles:\n",
            "1. Suma\n",
            "2. Resta\n",
            "3. Multiplicación\n",
            "4. División\n",
            "Elije una operación (1/2/3/4): 3/4\n",
            "Ingresa el primer número: 22\n",
            "Ingresa el segundo número: 19\n",
            "Opción no válida\n"
          ]
        }
      ]
    },
    {
      "cell_type": "code",
      "source": [
        "# Solicitar al usuario que ingrese un número\n",
        "numero = int(input(\"Ingresa un número entero: \"))\n",
        "\n",
        "# Determinar si el número es par o impar\n",
        "if numero % 2 == 0:\n",
        "    print(f\"{numero} es un número par.\")\n",
        "else:\n",
        "    print(f\"{numero} es un número impar.\")\n"
      ],
      "metadata": {
        "colab": {
          "base_uri": "https://localhost:8080/"
        },
        "id": "VBx8h0m_QyND",
        "outputId": "3c8e2c24-09f4-4ee8-92f7-462ccf545d33"
      },
      "execution_count": 10,
      "outputs": [
        {
          "output_type": "stream",
          "name": "stdout",
          "text": [
            "Ingresa un número entero: 789\n",
            "789 es un número impar.\n"
          ]
        }
      ]
    },
    {
      "cell_type": "code",
      "source": [
        "\n",
        "\n",
        "# Solicitar al usuario que ingrese un número entero positivo\n",
        "numero = int(input(\"Ingresa un número entero positivo: \"))\n",
        "\n",
        "# Inicializar una variable para almacenar el resultado del factorial\n",
        "factorial = 1\n",
        "\n",
        "# Verificar si el número es positivo\n",
        "if numero < 0:\n",
        "    print(\"El factorial no está definido para números negativos.\")\n",
        "elif numero == 0:\n",
        "    print(\"El factorial de 0 es 1.\")\n",
        "else:\n",
        "    # Calcular el factorial usando un bucle for\n",
        "    for i in range(1, numero + 1):\n",
        "        factorial *= i\n",
        "\n",
        "    # Mostrar el resultado del factorial\n",
        "    print(f\"El factorial de {numero} es {factorial}\")\n"
      ],
      "metadata": {
        "colab": {
          "base_uri": "https://localhost:8080/"
        },
        "id": "Ndk0M_z3RWzw",
        "outputId": "33b09e1c-634e-4c2b-8cbf-5f313618dba5"
      },
      "execution_count": 11,
      "outputs": [
        {
          "output_type": "stream",
          "name": "stdout",
          "text": [
            "Ingresa un número entero positivo: 12\n",
            "El factorial de 12 es 479001600\n"
          ]
        }
      ]
    },
    {
      "cell_type": "code",
      "source": [
        "import random\n",
        "\n",
        "# Generar un número aleatorio entre 1 y 100\n",
        "numero_aleatorio = random.randint(1, 100)\n",
        "\n",
        "intentos = 0\n",
        "\n",
        "print(\"Adivina el número entre 1 y 100.\")\n",
        "\n",
        "while True:\n",
        "    intentos += 1\n",
        "    intento = int(input(\"Ingresa tu suposición: \"))\n",
        "\n",
        "    if intento < numero_aleatorio:\n",
        "        print(\"El número es mayor. Intenta de nuevo.\")\n",
        "    elif intento > numero_aleatorio:\n",
        "        print(\"El número es menor. Intenta de nuevo.\")\n",
        "    else:\n",
        "        print(f\"¡Felicitaciones! Adivinaste el número {numero_aleatorio} en {intentos} intentos.\")\n",
        "        break\n"
      ],
      "metadata": {
        "colab": {
          "base_uri": "https://localhost:8080/"
        },
        "id": "GBLYHhnXRz9P",
        "outputId": "346ea545-8dc6-4402-9e80-5e987c2e5a7e"
      },
      "execution_count": 13,
      "outputs": [
        {
          "output_type": "stream",
          "name": "stdout",
          "text": [
            "Adivina el número entre 1 y 100.\n",
            "Ingresa tu suposición: 25\n",
            "El número es mayor. Intenta de nuevo.\n",
            "Ingresa tu suposición: 45\n",
            "El número es mayor. Intenta de nuevo.\n",
            "Ingresa tu suposición: 78\n",
            "El número es mayor. Intenta de nuevo.\n",
            "Ingresa tu suposición: 98\n",
            "El número es menor. Intenta de nuevo.\n",
            "Ingresa tu suposición: 83\n",
            "El número es menor. Intenta de nuevo.\n",
            "Ingresa tu suposición: 78\n",
            "El número es mayor. Intenta de nuevo.\n",
            "Ingresa tu suposición: 80\n",
            "El número es menor. Intenta de nuevo.\n",
            "Ingresa tu suposición: 79\n",
            "¡Felicitaciones! Adivinaste el número 79 en 8 intentos.\n"
          ]
        }
      ]
    },
    {
      "cell_type": "code",
      "source": [
        "# Solicitar al usuario que ingrese la cantidad en dólares\n",
        "dolares = float(input(\"Ingresa la cantidad en dólares: \"))\n",
        "\n",
        "# Definir la tasa de cambio (cambio de dólares a euros)\n",
        "tasa_cambio = 0.85  # Cambio actual de dólares a euros (cambia según la tasa actual)\n",
        "\n",
        "# Calcular la cantidad en euros\n",
        "euros = dolares * tasa_cambio\n",
        "\n",
        "# Mostrar el resultado\n",
        "print(f\"{dolares} dólares son equivalentes a {euros} euros.\")\n"
      ],
      "metadata": {
        "colab": {
          "base_uri": "https://localhost:8080/"
        },
        "id": "tjGSmx3aSFsC",
        "outputId": "03b2a735-4e1f-42e3-b10b-f0bd1709640f"
      },
      "execution_count": 14,
      "outputs": [
        {
          "output_type": "stream",
          "name": "stdout",
          "text": [
            "Ingresa la cantidad en dólares: 1000\n",
            "1000.0 dólares son equivalentes a 850.0 euros.\n"
          ]
        }
      ]
    },
    {
      "cell_type": "code",
      "source": [
        "# Solicitar al usuario que ingrese un número\n",
        "numero = float(input(\"Ingresa un número: \"))\n",
        "\n",
        "# Determinar si el número es positivo, negativo o cero\n",
        "if numero > 0:\n",
        "    print(\"El número es positivo.\")\n",
        "elif numero < 0:\n",
        "    print(\"El número es negativo.\")\n",
        "else:\n",
        "    print(\"El número es cero.\")\n"
      ],
      "metadata": {
        "colab": {
          "base_uri": "https://localhost:8080/"
        },
        "id": "ltpcV1jMS2Uu",
        "outputId": "79e117ef-61d8-4b91-f455-710399da6af4"
      },
      "execution_count": 15,
      "outputs": [
        {
          "output_type": "stream",
          "name": "stdout",
          "text": [
            "Ingresa un número: 6\n",
            "El número es positivo.\n"
          ]
        }
      ]
    },
    {
      "cell_type": "code",
      "source": [
        "7\n",
        "# Solicitar al usuario que ingrese dos números\n",
        "numero1 = int(input(\"Ingresa el primer número: \"))\n",
        "numero2 = int(input(\"Ingresa el segundo número: \"))\n",
        "\n",
        "# Determinar si el primer número es divisible por el segundo\n",
        "if numero2 == 0:\n",
        "    print(\"Error: No se puede dividir por cero.\")\n",
        "elif numero1 % numero2 == 0:\n",
        "    print(f\"{numero1} es divisible por {numero2}.\")\n",
        "else:\n",
        "    print(f\"{numero1} no es divisible por {numero2}.\")\n"
      ],
      "metadata": {
        "colab": {
          "base_uri": "https://localhost:8080/"
        },
        "id": "Oxm4pDAjTlKf",
        "outputId": "2c000cfe-f08a-4dc1-c92d-6e9613af2077"
      },
      "execution_count": 16,
      "outputs": [
        {
          "output_type": "stream",
          "name": "stdout",
          "text": [
            "Ingresa el primer número: 18\n",
            "Ingresa el segundo número: 12\n",
            "18 no es divisible por 12.\n"
          ]
        }
      ]
    },
    {
      "cell_type": "code",
      "source": [
        "# Pedir al usuario que ingrese un año\n",
        "year = int(input(\"Ingrese un año: \"))\n",
        "\n",
        "# Determinar si es un año bisiesto\n",
        "if (year % 4 == 0 and year % 100 != 0) or (year % 400 == 0):\n",
        "    print(f\"{year} es un año bisiesto.\")\n",
        "else:\n",
        "    print(f\"{year} no es un año bisiesto.\")\n"
      ],
      "metadata": {
        "colab": {
          "base_uri": "https://localhost:8080/"
        },
        "id": "CJs8o1dBT4iT",
        "outputId": "881fbdf1-ea75-4bd6-94f1-654aa6e044d1"
      },
      "execution_count": 18,
      "outputs": [
        {
          "output_type": "stream",
          "name": "stdout",
          "text": [
            "Ingrese un año: 2000\n",
            "2000 es un año bisiesto.\n"
          ]
        }
      ]
    },
    {
      "cell_type": "code",
      "source": [
        "# Solicitar al usuario que ingrese las longitudes de los lados del triángulo\n",
        "lado1 = float(input(\"Ingrese la longitud del primer lado: \"))\n",
        "lado2 = float(input(\"Ingrese la longitud del segundo lado: \"))\n",
        "lado3 = float(input(\"Ingrese la longitud del tercer lado: \"))\n",
        "\n",
        "# Verificar si es posible formar un triángulo\n",
        "if lado1 + lado2 > lado3 and lado1 + lado3 > lado2 and lado2 + lado3 > lado1:\n",
        "    # Verificar el tipo de triángulo\n",
        "    if lado1 == lado2 == lado3:\n",
        "        print(\"Se forma un triángulo equilátero.\")\n",
        "    elif lado1 == lado2 or lado1 == lado3 or lado2 == lado3:\n",
        "        print(\"Se forma un triángulo isósceles.\")\n",
        "    else:\n",
        "        print(\"Se forma un triángulo escaleno.\")\n",
        "else:\n",
        "    print(\"No es posible formar un triángulo con estas longitudes.\")\n",
        "\n"
      ],
      "metadata": {
        "colab": {
          "base_uri": "https://localhost:8080/"
        },
        "id": "jlOZUQW1X5Qc",
        "outputId": "56f08cee-f139-4a38-bb79-d952173f8e7c"
      },
      "execution_count": 19,
      "outputs": [
        {
          "output_type": "stream",
          "name": "stdout",
          "text": [
            "Ingrese la longitud del primer lado: 28\n",
            "Ingrese la longitud del segundo lado: 29\n",
            "Ingrese la longitud del tercer lado: 27\n",
            "Se forma un triángulo escaleno.\n"
          ]
        }
      ]
    },
    {
      "cell_type": "code",
      "source": [
        "# Solicitar al usuario que ingrese su peso en kilogramos y su altura en metros\n",
        "peso = float(input(\"Ingrese su peso en kilogramos: \"))\n",
        "altura = float(input(\"Ingrese su altura en metros: \"))\n",
        "\n",
        "# Calcular el índice de masa corporal (IMC)\n",
        "imc = peso / (altura ** 2)\n",
        "\n",
        "# Mostrar el resultado del IMC\n",
        "print(\"Su índice de masa corporal (IMC) es:\", imc)\n",
        "\n",
        "# Interpretar el IMC\n",
        "if imc < 18.5:\n",
        "    print(\"Usted está bajo peso.\")\n",
        "elif 18.5 <= imc < 24.9:\n",
        "    print(\"Su peso es normal.\")\n",
        "elif 24.9 <= imc < 29.9:\n",
        "    print(\"Usted tiene sobrepeso.\")\n",
        "else:\n",
        "    print(\"Usted está en la categoría de obesidad.\")\n",
        "\n"
      ],
      "metadata": {
        "colab": {
          "base_uri": "https://localhost:8080/"
        },
        "id": "cvq8jl3vY8Rj",
        "outputId": "0b781a2f-bb02-4eaa-bf67-3e174c6ae325"
      },
      "execution_count": 25,
      "outputs": [
        {
          "output_type": "stream",
          "name": "stdout",
          "text": [
            "Ingrese su peso en kilogramos: 61\n",
            "Ingrese su altura en metros: 172\n",
            "Su índice de masa corporal (IMC) es: 0.002061925365062196\n",
            "Usted está bajo peso.\n"
          ]
        }
      ]
    },
    {
      "cell_type": "code",
      "source": [],
      "metadata": {
        "id": "JpMNuLbBZbd9"
      },
      "execution_count": null,
      "outputs": []
    }
  ]
}